{
 "metadata": {
  "language_info": {
   "codemirror_mode": {
    "name": "ipython",
    "version": 3
   },
   "file_extension": ".py",
   "mimetype": "text/x-python",
   "name": "python",
   "nbconvert_exporter": "python",
   "pygments_lexer": "ipython3",
   "version": "3.8.5-final"
  },
  "orig_nbformat": 2,
  "kernelspec": {
   "name": "Python 3.8.5 64-bit",
   "display_name": "Python 3.8.5 64-bit",
   "metadata": {
    "interpreter": {
     "hash": "71f106315c244bb26b2efcd414bbbbd5c4e7ab1d8c4648bd4639418cf245f7b3"
    }
   }
  }
 },
 "nbformat": 4,
 "nbformat_minor": 2,
 "cells": [
  {
   "cell_type": "code",
   "execution_count": 1,
   "metadata": {},
   "outputs": [],
   "source": [
    "total_number_months = 0\n",
    "net_pnl = 0\n",
    "average_change = 0\n",
    "date_max_gain = \"\"\n",
    "best_month = 0\n",
    "date_max_loss = \"\"\n",
    "worst_month = 0\n",
    "months = 0\n",
    "line_num = 0"
   ]
  },
  {
   "cell_type": "code",
   "execution_count": 12,
   "metadata": {},
   "outputs": [],
   "source": [
    "from pathlib import Path\n",
    "import csv\n",
    "filepath = Path(\"../PyBank/budget_data.csv\")"
   ]
  },
  {
   "cell_type": "code",
   "execution_count": 13,
   "metadata": {},
   "outputs": [],
   "source": [
    "with open(filepath, \"r\") as budget_data:\n",
    "    csv_data = csv.reader(budget_data)\n",
    "    \n",
    "    net_pnl = 0\n",
    "    header = next(csv_data)\n",
    "\n",
    "\n",
    "    for row in csv_data:\n",
    "        net_pnl += int(row[1])\n",
    "        total_number_months += 1\n",
    "        average_change = round ((net_pnl / total_number_months), 2)"
   ]
  },
  {
   "cell_type": "code",
   "execution_count": 14,
   "metadata": {
    "tags": []
   },
   "outputs": [
    {
     "output_type": "stream",
     "name": "stdout",
     "text": "Total Profit $ 38382578\nGreatest Decrease in Profits: $-1196225\nGreatest Increase in Profits: $1170593\nTotal Months: 86\nAverage Monthly Change: 446309.05\n"
    }
   ],
   "source": [
    "with open(filepath, \"r\") as budget_data:\n",
    "    csv_data = csv.reader(budget_data)\n",
    "    list_pnl = 0\n",
    "    \n",
    "    header = next(csv_data)\n",
    "    line_num += 1\n",
    "\n",
    "    for row in csv_data:\n",
    "        month = int(row[1])\n",
    "        \n",
    "            \n",
    "        if worst_month == 0:\n",
    "            worst_month = month\n",
    "        elif month > best_month:\n",
    "            best_month = month\n",
    "        elif month < worst_month:\n",
    "            worst_month = month\n",
    "            \n",
    "\n",
    "    print(f\"Total Profit $ {net_pnl}\")\n",
    "    print(f\"Greatest Decrease in Profits: ${worst_month}\")\n",
    "    print(f\"Greatest Increase in Profits: ${best_month}\")\n",
    "    print(f\"Total Months: {total_number_months}\")\n",
    "    print(f\"Average Monthly Change: {average_change}\")\n",
    "        "
   ]
  },
  {
   "cell_type": "code",
   "execution_count": null,
   "metadata": {},
   "outputs": [],
   "source": []
  }
 ]
}