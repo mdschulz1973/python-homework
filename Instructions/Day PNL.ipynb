{
 "metadata": {
  "language_info": {
   "codemirror_mode": {
    "name": "ipython",
    "version": 3
   },
   "file_extension": ".py",
   "mimetype": "text/x-python",
   "name": "python",
   "nbconvert_exporter": "python",
   "pygments_lexer": "ipython3",
   "version": "3.8.5-final"
  },
  "orig_nbformat": 2,
  "kernelspec": {
   "name": "python_defaultSpec_1600812981511",
   "display_name": "Python 3.8.5 64-bit"
  }
 },
 "nbformat": 4,
 "nbformat_minor": 2,
 "cells": [
  {
   "cell_type": "code",
   "execution_count": 38,
   "metadata": {},
   "outputs": [],
   "source": [
    "count = 0\n",
    "total = 0\n",
    "average = 0\n",
    "minimum = 0\n",
    "maximum = 0"
   ]
  },
  {
   "cell_type": "code",
   "execution_count": 39,
   "metadata": {},
   "outputs": [],
   "source": [
    "profitable_days = []\n",
    "unprofitable_days = []"
   ]
  },
  {
   "cell_type": "code",
   "execution_count": 40,
   "metadata": {},
   "outputs": [],
   "source": [
    "trading_pnl = [ -224,  352, 252, 354, -544,\n",
    "                -650,   56, 123, -43,  254,\n",
    "                 325, -123,  47, 321,  123,\n",
    "                 133, -151, 613, 232, -311 ]"
   ]
  },
  {
   "cell_type": "code",
   "execution_count": 41,
   "metadata": {},
   "outputs": [],
   "source": [
    "for day_pnl in trading_pnl:\n",
    "    total += day_pnl\n",
    "    count += 1\n",
    "\n",
    "    if minimum == 0:\n",
    "        minimum = day_pnl\n",
    "    elif day_pnl <= minimum:\n",
    "        minimum = day_pnl\n",
    "    elif day_pnl > maximum:\n",
    "        maximum = day_pnl\n",
    "\n",
    "    if day_pnl > 0 :\n",
    "        profitable_days.append(day_pnl)\n",
    "    elif day_pnl < 0:\n",
    "        unprofitable_days.append(day_pnl)        "
   ]
  },
  {
   "cell_type": "code",
   "execution_count": 42,
   "metadata": {},
   "outputs": [],
   "source": [
    "average = round(total / count, 2)\n"
   ]
  },
  {
   "cell_type": "code",
   "execution_count": 43,
   "metadata": {},
   "outputs": [],
   "source": [
    "profitable_count = len(profitable_days)\n",
    "unprofitable_count = len(unprofitable_days)"
   ]
  },
  {
   "cell_type": "code",
   "execution_count": 44,
   "metadata": {},
   "outputs": [],
   "source": [
    "percentage_profitable = profitable_count / count * 100\n",
    "percentage_unprofitable = unprofitable_count / count * 100"
   ]
  },
  {
   "cell_type": "code",
   "execution_count": 45,
   "metadata": {
    "tags": []
   },
   "outputs": [
    {
     "output_type": "stream",
     "name": "stdout",
     "text": "---Summary Statistics---\nNumber of Total Days: 20\nNumber of Profitable Days: 13\nNumber of Unprofitale Days: 7\nPercentage of Profitable Days: 65.0\nPercentage of Unprofitable Days: 35.0\n------------------------------------------\nProfitable Days: [352, 252, 354, 56, 123, 254, 325, 47, 321, 123, 133, 613, 232]\nUnprofitable Days: [-224, -544, -650, -43, -123, -151, -311]\n------------------------------------------\nTotal Profits/Losses 1139\nDaily Average: 56.95\nWorst Loss: -650\nBest Gain:613\n"
    }
   ],
   "source": [
    "print(\"---Summary Statistics---\")\n",
    "print(f\"Number of Total Days: {count}\")\n",
    "print(f\"Number of Profitable Days: {profitable_count}\")\n",
    "print(f\"Number of Unprofitale Days: {unprofitable_count}\")\n",
    "print(f\"Percentage of Profitable Days: {percentage_profitable}\")\n",
    "print(f\"Percentage of Unprofitable Days: {percentage_unprofitable}\")\n",
    "print(\"------------------------------------------\")\n",
    "print(f\"Profitable Days: {profitable_days}\")\n",
    "print(f\"Unprofitable Days: {unprofitable_days}\")\n",
    "print(\"------------------------------------------\")\n",
    "print(f\"Total Profits/Losses {total}\")\n",
    "print(f\"Daily Average: {average}\")\n",
    "print(f\"Worst Loss: {minimum}\")\n",
    "print(f\"Best Gain:{maximum}\")\n"
   ]
  },
  {
   "cell_type": "code",
   "execution_count": null,
   "metadata": {},
   "outputs": [],
   "source": []
  },
  {
   "cell_type": "code",
   "execution_count": null,
   "metadata": {},
   "outputs": [],
   "source": []
  }
 ]
}